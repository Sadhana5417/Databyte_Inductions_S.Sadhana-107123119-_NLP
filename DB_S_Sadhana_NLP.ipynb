{
  "nbformat": 4,
  "nbformat_minor": 0,
  "metadata": {
    "colab": {
      "provenance": []
    },
    "kernelspec": {
      "name": "python3",
      "display_name": "Python 3"
    },
    "language_info": {
      "name": "python"
    }
  },
  "cells": [
    {
      "cell_type": "markdown",
      "source": [
        "task - spam mail classification\n",
        "107123119 S.Sadhana"
      ],
      "metadata": {
        "id": "zPyu-BIBwUSZ"
      }
    },
    {
      "cell_type": "code",
      "source": [
        "import numpy as np\n",
        "import pandas as pd\n",
        "from sklearn.preprocessing import StandardScaler\n",
        "from sklearn.model_selection import train_test_split\n",
        "from sklearn.metrics import accuracy_score\n",
        "from sklearn.metrics import precision_score\n",
        "from sklearn.metrics import recall_score\n",
        "from sklearn.metrics import f1_score\n",
        "from sklearn.metrics import confusion_matrix"
      ],
      "metadata": {
        "id": "UX26cYJoHRBo"
      },
      "execution_count": null,
      "outputs": []
    },
    {
      "cell_type": "code",
      "source": [
        "pip install ucimlrepo"
      ],
      "metadata": {
        "colab": {
          "base_uri": "https://localhost:8080/"
        },
        "outputId": "c1f12930-6664-4f0b-f051-5bacbc55ae66",
        "id": "55jfHudePgF0"
      },
      "execution_count": null,
      "outputs": [
        {
          "output_type": "stream",
          "name": "stdout",
          "text": [
            "Requirement already satisfied: ucimlrepo in /usr/local/lib/python3.10/dist-packages (0.0.7)\n",
            "Requirement already satisfied: pandas>=1.0.0 in /usr/local/lib/python3.10/dist-packages (from ucimlrepo) (2.0.3)\n",
            "Requirement already satisfied: certifi>=2020.12.5 in /usr/local/lib/python3.10/dist-packages (from ucimlrepo) (2024.6.2)\n",
            "Requirement already satisfied: python-dateutil>=2.8.2 in /usr/local/lib/python3.10/dist-packages (from pandas>=1.0.0->ucimlrepo) (2.8.2)\n",
            "Requirement already satisfied: pytz>=2020.1 in /usr/local/lib/python3.10/dist-packages (from pandas>=1.0.0->ucimlrepo) (2023.4)\n",
            "Requirement already satisfied: tzdata>=2022.1 in /usr/local/lib/python3.10/dist-packages (from pandas>=1.0.0->ucimlrepo) (2024.1)\n",
            "Requirement already satisfied: numpy>=1.21.0 in /usr/local/lib/python3.10/dist-packages (from pandas>=1.0.0->ucimlrepo) (1.25.2)\n",
            "Requirement already satisfied: six>=1.5 in /usr/local/lib/python3.10/dist-packages (from python-dateutil>=2.8.2->pandas>=1.0.0->ucimlrepo) (1.16.0)\n"
          ]
        }
      ]
    },
    {
      "cell_type": "code",
      "source": [
        "from ucimlrepo import fetch_ucirepo\n",
        "\n",
        "# fetch dataset\n",
        "spambase = fetch_ucirepo(id=94)\n",
        "\n",
        "# data (as pandas dataframes)\n",
        "X = spambase.data.features\n",
        "y = spambase.data.targets\n",
        "\n",
        "# metadata\n",
        "print(spambase.metadata)\n",
        "\n",
        "# variable information\n",
        "print(spambase.variables)\n"
      ],
      "metadata": {
        "colab": {
          "base_uri": "https://localhost:8080/"
        },
        "outputId": "67bcb9e5-1b7e-45a7-ad4e-acf91a6c00f7",
        "id": "nhdB41-0PlEc"
      },
      "execution_count": null,
      "outputs": [
        {
          "output_type": "stream",
          "name": "stdout",
          "text": [
            "{'uci_id': 94, 'name': 'Spambase', 'repository_url': 'https://archive.ics.uci.edu/dataset/94/spambase', 'data_url': 'https://archive.ics.uci.edu/static/public/94/data.csv', 'abstract': 'Classifying Email as Spam or Non-Spam', 'area': 'Computer Science', 'tasks': ['Classification'], 'characteristics': ['Multivariate'], 'num_instances': 4601, 'num_features': 57, 'feature_types': ['Integer', 'Real'], 'demographics': [], 'target_col': ['Class'], 'index_col': None, 'has_missing_values': 'no', 'missing_values_symbol': None, 'year_of_dataset_creation': 1999, 'last_updated': 'Mon Aug 28 2023', 'dataset_doi': '10.24432/C53G6X', 'creators': ['Mark Hopkins', 'Erik Reeber', 'George Forman', 'Jaap Suermondt'], 'intro_paper': None, 'additional_info': {'summary': 'The \"spam\" concept is diverse: advertisements for products/web sites, make money fast schemes, chain letters, pornography...\\n\\nThe classification task for this dataset is to determine whether a given email is spam or not.\\n\\t\\nOur collection of spam e-mails came from our postmaster and individuals who had filed spam.  Our collection of non-spam e-mails came from filed work and personal e-mails, and hence the word \\'george\\' and the area code \\'650\\' are indicators of non-spam.  These are useful when constructing a personalized spam filter.  One would either have to blind such non-spam indicators or get a very wide collection of non-spam to generate a general purpose spam filter.\\n\\nFor background on spam: Cranor, Lorrie F., LaMacchia, Brian A.  Spam!, Communications of the ACM, 41(8):74-83, 1998.\\n\\nTypical performance is around ~7% misclassification error. False positives (marking good mail as spam) are very undesirable.If we insist on zero false positives in the training/testing set, 20-25% of the spam passed through the filter. See also Hewlett-Packard Internal-only Technical Report. External version forthcoming. ', 'purpose': None, 'funded_by': None, 'instances_represent': 'Emails', 'recommended_data_splits': None, 'sensitive_data': None, 'preprocessing_description': None, 'variable_info': 'The last column of \\'spambase.data\\' denotes whether the e-mail was considered spam (1) or not (0), i.e. unsolicited commercial e-mail.  Most of the attributes indicate whether a particular word or character was frequently occuring in the e-mail.  The run-length attributes (55-57) measure the length of sequences of consecutive capital letters.  For the statistical measures of each attribute, see the end of this file.  Here are the definitions of the attributes:\\r\\n\\r\\n48 continuous real [0,100] attributes of type word_freq_WORD \\r\\n= percentage of words in the e-mail that match WORD, i.e. 100 * (number of times the WORD appears in the e-mail) / total number of words in e-mail.  A \"word\" in this case is any string of alphanumeric characters bounded by non-alphanumeric characters or end-of-string.\\r\\n\\r\\n6 continuous real [0,100] attributes of type char_freq_CHAR] \\r\\n= percentage of characters in the e-mail that match CHAR, i.e. 100 * (number of CHAR occurences) / total characters in e-mail\\r\\n\\r\\n1 continuous real [1,...] attribute of type capital_run_length_average \\r\\n= average length of uninterrupted sequences of capital letters\\r\\n\\r\\n1 continuous integer [1,...] attribute of type capital_run_length_longest \\r\\n= length of longest uninterrupted sequence of capital letters\\r\\n\\r\\n1 continuous integer [1,...] attribute of type capital_run_length_total \\r\\n= sum of length of uninterrupted sequences of capital letters \\r\\n= total number of capital letters in the e-mail\\r\\n\\r\\n1 nominal {0,1} class attribute of type spam\\r\\n= denotes whether the e-mail was considered spam (1) or not (0), i.e. unsolicited commercial e-mail.  \\r\\n', 'citation': None}}\n",
            "                          name     role        type demographic  \\\n",
            "0               word_freq_make  Feature  Continuous        None   \n",
            "1            word_freq_address  Feature  Continuous        None   \n",
            "2                word_freq_all  Feature  Continuous        None   \n",
            "3                 word_freq_3d  Feature  Continuous        None   \n",
            "4                word_freq_our  Feature  Continuous        None   \n",
            "5               word_freq_over  Feature  Continuous        None   \n",
            "6             word_freq_remove  Feature  Continuous        None   \n",
            "7           word_freq_internet  Feature  Continuous        None   \n",
            "8              word_freq_order  Feature  Continuous        None   \n",
            "9               word_freq_mail  Feature  Continuous        None   \n",
            "10           word_freq_receive  Feature  Continuous        None   \n",
            "11              word_freq_will  Feature  Continuous        None   \n",
            "12            word_freq_people  Feature  Continuous        None   \n",
            "13            word_freq_report  Feature  Continuous        None   \n",
            "14         word_freq_addresses  Feature  Continuous        None   \n",
            "15              word_freq_free  Feature  Continuous        None   \n",
            "16          word_freq_business  Feature  Continuous        None   \n",
            "17             word_freq_email  Feature  Continuous        None   \n",
            "18               word_freq_you  Feature  Continuous        None   \n",
            "19            word_freq_credit  Feature  Continuous        None   \n",
            "20              word_freq_your  Feature  Continuous        None   \n",
            "21              word_freq_font  Feature  Continuous        None   \n",
            "22               word_freq_000  Feature  Continuous        None   \n",
            "23             word_freq_money  Feature  Continuous        None   \n",
            "24                word_freq_hp  Feature  Continuous        None   \n",
            "25               word_freq_hpl  Feature  Continuous        None   \n",
            "26            word_freq_george  Feature  Continuous        None   \n",
            "27               word_freq_650  Feature  Continuous        None   \n",
            "28               word_freq_lab  Feature  Continuous        None   \n",
            "29              word_freq_labs  Feature  Continuous        None   \n",
            "30            word_freq_telnet  Feature  Continuous        None   \n",
            "31               word_freq_857  Feature  Continuous        None   \n",
            "32              word_freq_data  Feature  Continuous        None   \n",
            "33               word_freq_415  Feature  Continuous        None   \n",
            "34                word_freq_85  Feature  Continuous        None   \n",
            "35        word_freq_technology  Feature  Continuous        None   \n",
            "36              word_freq_1999  Feature  Continuous        None   \n",
            "37             word_freq_parts  Feature  Continuous        None   \n",
            "38                word_freq_pm  Feature  Continuous        None   \n",
            "39            word_freq_direct  Feature  Continuous        None   \n",
            "40                word_freq_cs  Feature  Continuous        None   \n",
            "41           word_freq_meeting  Feature  Continuous        None   \n",
            "42          word_freq_original  Feature  Continuous        None   \n",
            "43           word_freq_project  Feature  Continuous        None   \n",
            "44                word_freq_re  Feature  Continuous        None   \n",
            "45               word_freq_edu  Feature  Continuous        None   \n",
            "46             word_freq_table  Feature  Continuous        None   \n",
            "47        word_freq_conference  Feature  Continuous        None   \n",
            "48                 char_freq_;  Feature  Continuous        None   \n",
            "49                 char_freq_(  Feature  Continuous        None   \n",
            "50                 char_freq_[  Feature  Continuous        None   \n",
            "51                 char_freq_!  Feature  Continuous        None   \n",
            "52                 char_freq_$  Feature  Continuous        None   \n",
            "53                 char_freq_#  Feature  Continuous        None   \n",
            "54  capital_run_length_average  Feature  Continuous        None   \n",
            "55  capital_run_length_longest  Feature  Continuous        None   \n",
            "56    capital_run_length_total  Feature  Continuous        None   \n",
            "57                       Class   Target      Binary        None   \n",
            "\n",
            "                 description units missing_values  \n",
            "0                       None  None             no  \n",
            "1                       None  None             no  \n",
            "2                       None  None             no  \n",
            "3                       None  None             no  \n",
            "4                       None  None             no  \n",
            "5                       None  None             no  \n",
            "6                       None  None             no  \n",
            "7                       None  None             no  \n",
            "8                       None  None             no  \n",
            "9                       None  None             no  \n",
            "10                      None  None             no  \n",
            "11                      None  None             no  \n",
            "12                      None  None             no  \n",
            "13                      None  None             no  \n",
            "14                      None  None             no  \n",
            "15                      None  None             no  \n",
            "16                      None  None             no  \n",
            "17                      None  None             no  \n",
            "18                      None  None             no  \n",
            "19                      None  None             no  \n",
            "20                      None  None             no  \n",
            "21                      None  None             no  \n",
            "22                      None  None             no  \n",
            "23                      None  None             no  \n",
            "24                      None  None             no  \n",
            "25                      None  None             no  \n",
            "26                      None  None             no  \n",
            "27                      None  None             no  \n",
            "28                      None  None             no  \n",
            "29                      None  None             no  \n",
            "30                      None  None             no  \n",
            "31                      None  None             no  \n",
            "32                      None  None             no  \n",
            "33                      None  None             no  \n",
            "34                      None  None             no  \n",
            "35                      None  None             no  \n",
            "36                      None  None             no  \n",
            "37                      None  None             no  \n",
            "38                      None  None             no  \n",
            "39                      None  None             no  \n",
            "40                      None  None             no  \n",
            "41                      None  None             no  \n",
            "42                      None  None             no  \n",
            "43                      None  None             no  \n",
            "44                      None  None             no  \n",
            "45                      None  None             no  \n",
            "46                      None  None             no  \n",
            "47                      None  None             no  \n",
            "48                      None  None             no  \n",
            "49                      None  None             no  \n",
            "50                      None  None             no  \n",
            "51                      None  None             no  \n",
            "52                      None  None             no  \n",
            "53                      None  None             no  \n",
            "54                      None  None             no  \n",
            "55                      None  None             no  \n",
            "56                      None  None             no  \n",
            "57  spam (1) or not spam (0)  None             no  \n"
          ]
        }
      ]
    },
    {
      "cell_type": "code",
      "source": [
        "features = X\n",
        "target = y\n",
        "scaler = StandardScaler()\n",
        "scaler.fit(features)\n",
        "standardized_data = scaler.transform(features)\n",
        "features = standardized_data\n",
        "target = y\n",
        "X_train, X_test, Y_train, Y_test = train_test_split(features,target, test_size = 0.2, random_state=2)\n",
        "\n",
        "print(features.shape, X_train.shape, X_test.shape)"
      ],
      "metadata": {
        "id": "spHe-4MwHww8",
        "colab": {
          "base_uri": "https://localhost:8080/"
        },
        "outputId": "b7967c23-9a94-40ff-f248-74576696c7cd"
      },
      "execution_count": null,
      "outputs": [
        {
          "output_type": "stream",
          "name": "stdout",
          "text": [
            "(4601, 57) (3680, 57) (921, 57)\n"
          ]
        }
      ]
    },
    {
      "cell_type": "markdown",
      "source": [
        "CODE USING LIBRARY"
      ],
      "metadata": {
        "id": "gbYMHrnSwg7E"
      }
    },
    {
      "cell_type": "code",
      "source": [
        "from sklearn.linear_model import LogisticRegression\n",
        "from sklearn.svm import SVC\n",
        "from sklearn.naive_bayes import GaussianNB"
      ],
      "metadata": {
        "id": "COhtnrxTAzzq"
      },
      "execution_count": null,
      "outputs": []
    },
    {
      "cell_type": "code",
      "source": [
        "# LOGISTIC REGRESSISON - LIB\n",
        "\n",
        "spam_detection_lr_lib = LogisticRegression()\n",
        "spam_detection_lr_lib.fit(X_train, Y_train)\n",
        "X_test_predicted = spam_detection_lr_lib.predict(X_test)\n",
        "X_train_predicted = spam_detection_lr_lib.predict(X_train)\n",
        "\n",
        "#confusion matrix\n",
        "cf_matrix = confusion_matrix(Y_test, X_test_predicted)\n",
        "print(cf_matrix)\n",
        "\n",
        "# F1 score\n",
        "f1_score_train = f1_score(Y_train, X_train_predicted)\n",
        "print('Train data F1 Score =', f1_score_train)\n",
        "f1_score_test = recall_score(Y_test, X_test_predicted)\n",
        "print('Test data F1 Score =', f1_score_test)\n",
        "\n",
        "# recall\n",
        "recall_train = recall_score(Y_train, X_train_predicted)\n",
        "print('Train data Recall =', recall_train)\n",
        "recall_test = recall_score(Y_test, X_test_predicted)\n",
        "print('Test data Recall =', recall_test)\n",
        "\n",
        "# precision\n",
        "precision_train = precision_score(Y_train, X_train_predicted)\n",
        "print('Train data Precision =', precision_train)\n",
        "precision_test = precision_score(Y_test, X_test_predicted)\n",
        "print('Test data Precision =', precision_test)\n",
        "\n",
        "# accuracy\n",
        "X_train_predicted = spam_detection_lr_lib.predict(X_train)\n",
        "train_data_accuracy = accuracy_score(Y_train, X_train_predicted)\n",
        "print(train_data_accuracy)\n",
        "print('Accuracy on Train data : ', round(train_data_accuracy*100, 2), '%')\n",
        "\n",
        "X_test_predicted = spam_detection_lr_lib.predict(X_test)\n",
        "test_data_accuracy = accuracy_score(Y_test, X_test_predicted)\n",
        "print(test_data_accuracy)\n",
        "print('Accuracy on Test data : ', round(test_data_accuracy*100, 2), '%')"
      ],
      "metadata": {
        "id": "D0n7N0x-B_V4",
        "colab": {
          "base_uri": "https://localhost:8080/"
        },
        "outputId": "bcd7dece-4b39-46d6-f38f-c8d6008b3c48"
      },
      "execution_count": null,
      "outputs": [
        {
          "output_type": "stream",
          "name": "stdout",
          "text": [
            "[[527  18]\n",
            " [ 49 327]]\n",
            "Train data F1 Score = 0.9112133003183588\n",
            "Test data F1 Score = 0.8696808510638298\n",
            "Train data Recall = 0.8963117606123869\n",
            "Test data Recall = 0.8696808510638298\n",
            "Train data Precision = 0.9266187050359712\n",
            "Test data Precision = 0.9478260869565217\n",
            "0.9317934782608696\n",
            "Accuracy on Train data :  93.18 %\n",
            "0.9272529858849077\n",
            "Accuracy on Test data :  92.73 %\n"
          ]
        },
        {
          "output_type": "stream",
          "name": "stderr",
          "text": [
            "/usr/local/lib/python3.10/dist-packages/sklearn/utils/validation.py:1143: DataConversionWarning: A column-vector y was passed when a 1d array was expected. Please change the shape of y to (n_samples, ), for example using ravel().\n",
            "  y = column_or_1d(y, warn=True)\n"
          ]
        }
      ]
    },
    {
      "cell_type": "code",
      "source": [
        "# SVM - LIB\n",
        "\n",
        "spam_detection_svm_lib = SVC(kernel='linear')\n",
        "spam_detection_svm_lib.fit(X_train, Y_train)\n",
        "X_test_prediction = spam_detection_svm_lib.predict(X_test)\n",
        "X_train_prediction = spam_detection_svm_lib.predict(X_train)\n",
        "\n",
        "#confusion matrix\n",
        "cf_matrix = confusion_matrix(Y_test, X_test_predicted)\n",
        "print(cf_matrix)\n",
        "\n",
        "# F1 score\n",
        "f1_score_train = f1_score(Y_train, X_train_predicted)\n",
        "print('Train data F1 Score =', f1_score_train)\n",
        "f1_score_test = recall_score(Y_test, X_test_predicted)\n",
        "print('Test data F1 Score =', f1_score_test)\n",
        "\n",
        "# recall\n",
        "recall_train = recall_score(Y_train, X_train_predicted)\n",
        "print('Train data Recall =', recall_train)\n",
        "recall_test = recall_score(Y_test, X_test_predicted)\n",
        "print('Test data Recall =', recall_test)\n",
        "\n",
        "# precision\n",
        "precision_train = precision_score(Y_train, X_train_predicted)\n",
        "print('Train data Precision =', precision_train)\n",
        "precision_test = precision_score(Y_test, X_test_predicted)\n",
        "print('Test data Precision =', precision_test)\n",
        "\n",
        "# accuracy\n",
        "X_train_predicted = spam_detection_svm_lib.predict(X_train)\n",
        "train_data_accuracy = accuracy_score(Y_train, X_train_predicted)\n",
        "print(train_data_accuracy)\n",
        "print('Accuracy on Train data : ', round(train_data_accuracy*100, 2), '%')\n",
        "X_test_predicted = spam_detection_svm_lib.predict(X_test)\n",
        "test_data_accuracy = accuracy_score(Y_test, X_test_predicted)\n",
        "print(test_data_accuracy)\n",
        "print('Accuracy on Test data : ', round(test_data_accuracy*100, 2), '%')"
      ],
      "metadata": {
        "id": "TKXlDRpmC2pO",
        "colab": {
          "base_uri": "https://localhost:8080/"
        },
        "outputId": "aea9bc9c-691c-4f1f-9d03-6158227642cb"
      },
      "execution_count": null,
      "outputs": [
        {
          "output_type": "stream",
          "name": "stderr",
          "text": [
            "/usr/local/lib/python3.10/dist-packages/sklearn/utils/validation.py:1143: DataConversionWarning: A column-vector y was passed when a 1d array was expected. Please change the shape of y to (n_samples, ), for example using ravel().\n",
            "  y = column_or_1d(y, warn=True)\n"
          ]
        },
        {
          "output_type": "stream",
          "name": "stdout",
          "text": [
            "[[527  18]\n",
            " [ 49 327]]\n",
            "Train data F1 Score = 0.9112133003183588\n",
            "Test data F1 Score = 0.8696808510638298\n",
            "Train data Recall = 0.8963117606123869\n",
            "Test data Recall = 0.8696808510638298\n",
            "Train data Precision = 0.9266187050359712\n",
            "Test data Precision = 0.9478260869565217\n",
            "0.935054347826087\n",
            "Accuracy on Train data :  93.51 %\n",
            "0.9283387622149837\n",
            "Accuracy on Test data :  92.83 %\n"
          ]
        }
      ]
    },
    {
      "cell_type": "code",
      "source": [
        "# NAIVE BAYES - LIB\n",
        "\n",
        "spam_detection_nb_lib= GaussianNB()\n",
        "spam_detection_nb_lib.fit(X_train, Y_train)\n",
        "X_test_predicted = spam_detection_nb_lib.predict(X_test)\n",
        "X_train_predicted = spam_detection_nb_lib.predict(X_train)\n",
        "\n",
        "#confusion matrix\n",
        "cf_matrix = confusion_matrix(Y_test, X_test_predicted)\n",
        "print(cf_matrix)\n",
        "\n",
        "# F1 score\n",
        "f1_score_train = f1_score(Y_train, X_train_predicted)\n",
        "print('Train data F1 Score =', f1_score_train)\n",
        "f1_score_test = recall_score(Y_test, X_test_predicted)\n",
        "print('Test data F1 Score =', f1_score_test)\n",
        "\n",
        "# recall\n",
        "recall_train = recall_score(Y_train, X_train_predicted)\n",
        "print('Train data Recall =', recall_train)\n",
        "recall_test = recall_score(Y_test, X_test_predicted)\n",
        "print('Test data Recall =', recall_test)\n",
        "\n",
        "# precision\n",
        "precision_train = precision_score(Y_train, X_train_predicted)\n",
        "print('Train data Precision =', precision_train)\n",
        "precision_test = precision_score(Y_test, X_test_predicted)\n",
        "print('Test data Precision =', precision_test)\n",
        "\n",
        "# accuracy\n",
        "X_train_prediction = spam_detection_nb_lib.predict(X_train)\n",
        "train_data_accuracy = accuracy_score(Y_train, X_train_predicted)\n",
        "print(train_data_accuracy)\n",
        "print('Accuracy on Training data : ', round(train_data_accuracy*100, 2), '%')\n",
        "\n",
        "# accuracy on test data\n",
        "X_test_predicted = spam_detection_nb_lib.predict(X_test)\n",
        "test_data_accuracy = accuracy_score(Y_test, X_test_predicted)\n",
        "print(test_data_accuracy)\n",
        "print('Accuracy on Test data : ', round(test_data_accuracy*100, 2), '%')"
      ],
      "metadata": {
        "colab": {
          "base_uri": "https://localhost:8080/"
        },
        "outputId": "07e1ab19-9598-40ea-fd80-2bf387524f78",
        "id": "iBSkpSWj9k12"
      },
      "execution_count": null,
      "outputs": [
        {
          "output_type": "stream",
          "name": "stdout",
          "text": [
            "[[404 141]\n",
            " [ 16 360]]\n",
            "Train data F1 Score = 0.7959302325581397\n",
            "Test data F1 Score = 0.9574468085106383\n",
            "Train data Recall = 0.9526791927627001\n",
            "Test data Recall = 0.9574468085106383\n",
            "Train data Precision = 0.6834747878182726\n",
            "Test data Precision = 0.718562874251497\n",
            "0.8092391304347826\n",
            "Accuracy on Training data :  92.26 %\n",
            "0.8295331161780674\n",
            "Accuracy on Test data :  82.95 %\n"
          ]
        },
        {
          "output_type": "stream",
          "name": "stderr",
          "text": [
            "/usr/local/lib/python3.10/dist-packages/sklearn/utils/validation.py:1143: DataConversionWarning: A column-vector y was passed when a 1d array was expected. Please change the shape of y to (n_samples, ), for example using ravel().\n",
            "  y = column_or_1d(y, warn=True)\n"
          ]
        }
      ]
    },
    {
      "cell_type": "markdown",
      "source": [
        "* SVM model has more accuracy and is best compared to other models"
      ],
      "metadata": {
        "id": "5Yv8HaW6-_tl"
      }
    },
    {
      "cell_type": "markdown",
      "source": [
        "CODE FROM SCRATCH"
      ],
      "metadata": {
        "id": "980st6z3QSs5"
      }
    },
    {
      "cell_type": "code",
      "source": [
        "# LOGISTIC REGRESSION\n",
        "class Logistic_Regression():\n",
        "  def __init__(self, learning_rate, no_of_iterations):\n",
        "\n",
        "    self.learning_rate = learning_rate\n",
        "    self.no_of_iterations = no_of_iterations\n",
        "\n",
        "  def fit(self, X, Y):\n",
        "    self.m, self.n = X.shape\n",
        "    self.w = np.zeros(self.n)\n",
        "    self.b = 0\n",
        "    self.X = X\n",
        "    self.Y = Y.values.ravel()\n",
        "\n",
        "    for i in range(self.no_of_iterations):\n",
        "      self.update_weights()\n",
        "  def update_weights(self):\n",
        "\n",
        "    Y_hat = 1 / (1 + np.exp( - (self.X.dot(self.w) + self.b ) ))\n",
        "\n",
        "    dw = (1/self.m)*np.dot(self.X.T, (Y_hat - self.Y))\n",
        "    db = (1/self.m)*np.sum(Y_hat - self.Y)\n",
        "\n",
        "    self.w = self.w - self.learning_rate * dw\n",
        "    self.b = self.b - self.learning_rate * db\n",
        "\n",
        "  def predict(self, X):\n",
        "    Y_pred = 1 / (1 + np.exp( - (X.dot(self.w) + self.b ) ))\n",
        "    Y_pred = np.where( Y_pred > 0.5, 1, 0)\n",
        "    return Y_pred\n"
      ],
      "metadata": {
        "id": "0l86eYc0G9y3"
      },
      "execution_count": null,
      "outputs": []
    },
    {
      "cell_type": "code",
      "source": [
        "# LOGISTIC REGRESSION\n",
        "spam_detection_lr = Logistic_Regression(learning_rate=0.02, no_of_iterations=2500)\n",
        "spam_detection_lr.fit(X_train, Y_train)\n",
        "X_test_prediction = spam_detection_lr.predict(X_test)\n",
        "X_train_prediction = spam_detection_lr.predict(X_train)\n"
      ],
      "metadata": {
        "id": "PTNYfD0JIMas"
      },
      "execution_count": null,
      "outputs": []
    },
    {
      "cell_type": "code",
      "source": [
        "# LOGISTIC REGRESSION\n",
        "#confusion matrix\n",
        "cf_matrix = confusion_matrix(Y_test, X_test_prediction)\n",
        "print(cf_matrix)\n",
        "\n",
        "# F1 score\n",
        "f1_score_train = f1_score(Y_train, X_train_prediction)\n",
        "print('Training data F1 Score =', f1_score_train)\n",
        "f1_score_test = recall_score(Y_test, X_test_prediction)\n",
        "print('Test data F1 Score =', f1_score_test)\n",
        "\n",
        "# recall\n",
        "recall_train = recall_score(Y_train, X_train_prediction)\n",
        "print('Training data Recall =', recall_train)\n",
        "recall_test = recall_score(Y_test, X_test_prediction)\n",
        "print('Test data Recall =', recall_test)\n",
        "\n",
        "# precision\n",
        "precision_train = precision_score(Y_train, X_train_prediction)\n",
        "print('Training data Precision =', precision_train)\n",
        "precision_test = precision_score(Y_test, X_test_prediction)\n",
        "print('Test data Precision =', precision_test)\n",
        "\n",
        "# accuracy\n",
        "X_train_prediction = spam_detection_lr.predict(X_train)\n",
        "training_data_accuracy = accuracy_score(Y_train, X_train_prediction)\n",
        "print(training_data_accuracy)\n",
        "print('Accuracy on Training data : ', round(training_data_accuracy*100, 2), '%')\n",
        "\n",
        "X_test_prediction = spam_detection_lr.predict(X_test)\n",
        "test_data_accuracy = accuracy_score(Y_test, X_test_prediction)\n",
        "print(test_data_accuracy)\n",
        "print('Accuracy on Test data : ', round(test_data_accuracy*100, 2), '%')"
      ],
      "metadata": {
        "colab": {
          "base_uri": "https://localhost:8080/"
        },
        "id": "pEg-mOQURGZ5",
        "outputId": "b0199c43-4a63-426f-f397-e72eca7ffa44"
      },
      "execution_count": null,
      "outputs": [
        {
          "output_type": "stream",
          "name": "stdout",
          "text": [
            "[[526  19]\n",
            " [ 57 319]]\n",
            "Training data F1 Score = 0.8994293865905849\n",
            "Test data F1 Score = 0.848404255319149\n",
            "Training data Recall = 0.8775226165622826\n",
            "Test data Recall = 0.848404255319149\n",
            "Training data Precision = 0.922457937088515\n",
            "Test data Precision = 0.9437869822485208\n",
            "0.9233695652173913\n",
            "Accuracy on Training data :  92.34 %\n",
            "0.9174809989142236\n",
            "Accuracy on Test data :  91.75 %\n"
          ]
        }
      ]
    },
    {
      "cell_type": "code",
      "source": [
        "# SVM\n",
        "class SVM_classifier():\n",
        "\n",
        "  def __init__(self, learning_rate, no_of_iterations, lambda_parameter):\n",
        "    self.learning_rate = learning_rate\n",
        "    self.no_of_iterations = no_of_iterations\n",
        "    self.lambda_parameter = lambda_parameter\n",
        "\n",
        "  def fit(self, X, Y):\n",
        "    self.m, self.n = X.shape\n",
        "    self.w = np.zeros(self.n)\n",
        "    self.b = 0\n",
        "    self.X = X\n",
        "    self.Y = Y\n",
        "    for i in range(self.no_of_iterations):\n",
        "      self.update_weights()\n",
        "\n",
        "  def update_weights(self):\n",
        "   y_label = np.where(self.Y <= 0, -1, 1)\n",
        "\n",
        "   for index, x_i in enumerate(self.X):\n",
        "      condition = y_label[index] * (np.dot(x_i, self.w) - self.b) >= 1\n",
        "\n",
        "      if (condition == True):\n",
        "        dw = 2 * self.lambda_parameter * self.w\n",
        "        db = 0\n",
        "      else:\n",
        "        dw = 2 * self.lambda_parameter * self.w - x_i * y_label[index]\n",
        "        db = y_label[index]\n",
        "\n",
        "      self.w = self.w - self.learning_rate * dw\n",
        "      self.b = self.b - self.learning_rate * db\n",
        "\n",
        "  def predict(self, X):\n",
        "\n",
        "    output = np.dot(X, self.w) - self.b\n",
        "    predicted_labels = np.sign(output)\n",
        "    y_hat = np.where(predicted_labels <= -1, 0, 1)\n",
        "    return y_hat"
      ],
      "metadata": {
        "id": "su8eaHXbIYpz"
      },
      "execution_count": null,
      "outputs": []
    },
    {
      "cell_type": "code",
      "source": [
        "#SVM\n",
        "spam_detection_svm = SVM_classifier(learning_rate=0.002, no_of_iterations=2500, lambda_parameter=0.01)\n",
        "spam_detection_svm.fit(X_train, Y_train)\n",
        "X_test_prediction = spam_detection_svm.predict(X_test)\n",
        "X_train_prediction = spam_detection_svm.predict(X_train)"
      ],
      "metadata": {
        "id": "uGbhBZv6KUvY"
      },
      "execution_count": null,
      "outputs": []
    },
    {
      "cell_type": "code",
      "source": [
        "#SVM\n",
        "\n",
        "#confusion matrix\n",
        "cf_matrix = confusion_matrix(Y_test, X_test_prediction)\n",
        "print(cf_matrix)\n",
        "\n",
        "# F1 score\n",
        "f1_score_train = f1_score(Y_train, X_train_prediction)\n",
        "print('Training data F1 Score =', f1_score_train)\n",
        "f1_score_test = recall_score(Y_test, X_test_prediction)\n",
        "print('Test data F1 Score =', f1_score_test)\n",
        "\n",
        "# recall\n",
        "recall_train = recall_score(Y_train, X_train_prediction)\n",
        "print('Training data Recall =', recall_train)\n",
        "recall_test = recall_score(Y_test, X_test_prediction)\n",
        "print('Test data Recall =', recall_test)\n",
        "\n",
        "# precision\n",
        "precision_train = precision_score(Y_train, X_train_prediction)\n",
        "print('Training data Precision =', precision_train)\n",
        "precision_test = precision_score(Y_test, X_test_prediction)\n",
        "print('Test data Precision =', precision_test)\n",
        "\n",
        "# accuracy\n",
        "X_train_prediction = spam_detection_svm.predict(X_train)\n",
        "training_data_accuracy = accuracy_score(Y_train, X_train_prediction)\n",
        "print(training_data_accuracy)\n",
        "print('Accuracy on Training data : ', round(training_data_accuracy*100, 2), '%')\n",
        "\n",
        "X_test_prediction = spam_detection_svm.predict(X_test)\n",
        "test_data_accuracy = accuracy_score(Y_test, X_test_prediction)\n",
        "print(test_data_accuracy)\n",
        "print('Accuracy on Test data : ', round(test_data_accuracy*100, 2), '%')"
      ],
      "metadata": {
        "id": "c-FrAbIAcGGA",
        "colab": {
          "base_uri": "https://localhost:8080/"
        },
        "outputId": "297e37e4-b3de-4f0a-a768-4f8d54aaf030"
      },
      "execution_count": null,
      "outputs": [
        {
          "output_type": "stream",
          "name": "stdout",
          "text": [
            "[[525  20]\n",
            " [ 57 319]]\n",
            "Training data F1 Score = 0.8983957219251336\n",
            "Test data F1 Score = 0.848404255319149\n",
            "Training data Recall = 0.8768267223382046\n",
            "Test data Recall = 0.848404255319149\n",
            "Training data Precision = 0.9210526315789473\n",
            "Test data Precision = 0.9410029498525073\n",
            "0.9225543478260869\n",
            "Accuracy on Training data :  92.26 %\n",
            "0.9163952225841476\n",
            "Accuracy on Test data :  91.64 %\n"
          ]
        }
      ]
    }
  ]
}
